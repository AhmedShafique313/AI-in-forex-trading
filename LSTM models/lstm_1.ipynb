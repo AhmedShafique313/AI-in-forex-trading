{
 "cells": [
  {
   "cell_type": "code",
   "execution_count": 3,
   "metadata": {},
   "outputs": [],
   "source": [
    "import pandas as pd\n",
    "import numpy as np\n",
    "from sklearn.preprocessing import MinMaxScaler\n",
    "from keras.models import Sequential\n",
    "from keras.layers import LSTM, Dense"
   ]
  },
  {
   "cell_type": "code",
   "execution_count": 5,
   "metadata": {},
   "outputs": [],
   "source": [
    "\n",
    "df = pd.read_csv(r'C:\\Users\\Ahmed Shafique\\Documents\\Projects\\AI-in-forex-trading\\Datasets\\30min\\September 2024 30min dataset.csv', sep=',', header=None)\n",
    "df.columns = ['date', 'open', 'high', 'low', 'close']\n",
    "df['date'] = pd.to_datetime(df['date'])\n",
    "df.set_index('date', inplace=True)\n",
    "prices = df['close'].values.reshape(-1, 1)"
   ]
  },
  {
   "cell_type": "code",
   "execution_count": 6,
   "metadata": {},
   "outputs": [],
   "source": [
    "\n",
    "scaler = MinMaxScaler(feature_range=(0, 1))\n",
    "prices_scaled = scaler.fit_transform(prices)\n",
    "def create_lstm_data(data, time_steps=1):\n",
    "    x, y = [], []\n",
    "    for i in range(len(data) - time_steps):\n",
    "        x.append(data[i:(i + time_steps), 0])\n",
    "        y.append(data[i + time_steps, 0])\n",
    "    return np.array(x), np.array(y)\n",
    "\n",
    "time_steps = 10\n",
    "x, y = create_lstm_data(prices_scaled, time_steps)\n",
    "x = np.reshape(x, (x.shape[0], x.shape[1], 1))"
   ]
  },
  {
   "cell_type": "code",
   "execution_count": 7,
   "metadata": {},
   "outputs": [
    {
     "name": "stdout",
     "output_type": "stream",
     "text": [
      "Epoch 1/50\n",
      "13/13 [==============================] - 3s 8ms/step - loss: 0.0634\n",
      "Epoch 2/50\n",
      "13/13 [==============================] - 0s 8ms/step - loss: 0.0146\n",
      "Epoch 3/50\n",
      "13/13 [==============================] - 0s 6ms/step - loss: 0.0075\n",
      "Epoch 4/50\n",
      "13/13 [==============================] - 0s 7ms/step - loss: 0.0061\n",
      "Epoch 5/50\n",
      "13/13 [==============================] - 0s 7ms/step - loss: 0.0053\n",
      "Epoch 6/50\n",
      "13/13 [==============================] - 0s 7ms/step - loss: 0.0050\n",
      "Epoch 7/50\n",
      "13/13 [==============================] - 0s 7ms/step - loss: 0.0050\n",
      "Epoch 8/50\n",
      "13/13 [==============================] - 0s 7ms/step - loss: 0.0050\n",
      "Epoch 9/50\n",
      "13/13 [==============================] - 0s 5ms/step - loss: 0.0049\n",
      "Epoch 10/50\n",
      "13/13 [==============================] - 0s 5ms/step - loss: 0.0048\n",
      "Epoch 11/50\n",
      "13/13 [==============================] - 0s 5ms/step - loss: 0.0050\n",
      "Epoch 12/50\n",
      "13/13 [==============================] - 0s 6ms/step - loss: 0.0048\n",
      "Epoch 13/50\n",
      "13/13 [==============================] - 0s 7ms/step - loss: 0.0047\n",
      "Epoch 14/50\n",
      "13/13 [==============================] - 0s 7ms/step - loss: 0.0046\n",
      "Epoch 15/50\n",
      "13/13 [==============================] - 0s 6ms/step - loss: 0.0047\n",
      "Epoch 16/50\n",
      "13/13 [==============================] - 0s 6ms/step - loss: 0.0046\n",
      "Epoch 17/50\n",
      "13/13 [==============================] - 0s 5ms/step - loss: 0.0046\n",
      "Epoch 18/50\n",
      "13/13 [==============================] - 0s 6ms/step - loss: 0.0045\n",
      "Epoch 19/50\n",
      "13/13 [==============================] - 0s 5ms/step - loss: 0.0044\n",
      "Epoch 20/50\n",
      "13/13 [==============================] - 0s 6ms/step - loss: 0.0043\n",
      "Epoch 21/50\n",
      "13/13 [==============================] - 0s 7ms/step - loss: 0.0043\n",
      "Epoch 22/50\n",
      "13/13 [==============================] - 0s 7ms/step - loss: 0.0042\n",
      "Epoch 23/50\n",
      "13/13 [==============================] - 0s 5ms/step - loss: 0.0042\n",
      "Epoch 24/50\n",
      "13/13 [==============================] - 0s 6ms/step - loss: 0.0045\n",
      "Epoch 25/50\n",
      "13/13 [==============================] - 0s 5ms/step - loss: 0.0041\n",
      "Epoch 26/50\n",
      "13/13 [==============================] - 0s 6ms/step - loss: 0.0039\n",
      "Epoch 27/50\n",
      "13/13 [==============================] - 0s 5ms/step - loss: 0.0038\n",
      "Epoch 28/50\n",
      "13/13 [==============================] - 0s 6ms/step - loss: 0.0039\n",
      "Epoch 29/50\n",
      "13/13 [==============================] - 0s 7ms/step - loss: 0.0038\n",
      "Epoch 30/50\n",
      "13/13 [==============================] - 0s 6ms/step - loss: 0.0039\n",
      "Epoch 31/50\n",
      "13/13 [==============================] - 0s 7ms/step - loss: 0.0037\n",
      "Epoch 32/50\n",
      "13/13 [==============================] - 0s 5ms/step - loss: 0.0039\n",
      "Epoch 33/50\n",
      "13/13 [==============================] - 0s 5ms/step - loss: 0.0037\n",
      "Epoch 34/50\n",
      "13/13 [==============================] - 0s 5ms/step - loss: 0.0034\n",
      "Epoch 35/50\n",
      "13/13 [==============================] - 0s 6ms/step - loss: 0.0034\n",
      "Epoch 36/50\n",
      "13/13 [==============================] - 0s 7ms/step - loss: 0.0034\n",
      "Epoch 37/50\n",
      "13/13 [==============================] - 0s 7ms/step - loss: 0.0034\n",
      "Epoch 38/50\n",
      "13/13 [==============================] - 0s 5ms/step - loss: 0.0037\n",
      "Epoch 39/50\n",
      "13/13 [==============================] - 0s 6ms/step - loss: 0.0039\n",
      "Epoch 40/50\n",
      "13/13 [==============================] - 0s 6ms/step - loss: 0.0035\n",
      "Epoch 41/50\n",
      "13/13 [==============================] - 0s 6ms/step - loss: 0.0032\n",
      "Epoch 42/50\n",
      "13/13 [==============================] - 0s 7ms/step - loss: 0.0033\n",
      "Epoch 43/50\n",
      "13/13 [==============================] - 0s 5ms/step - loss: 0.0036\n",
      "Epoch 44/50\n",
      "13/13 [==============================] - 0s 7ms/step - loss: 0.0036\n",
      "Epoch 45/50\n",
      "13/13 [==============================] - 0s 6ms/step - loss: 0.0031\n",
      "Epoch 46/50\n",
      "13/13 [==============================] - 0s 7ms/step - loss: 0.0033\n",
      "Epoch 47/50\n",
      "13/13 [==============================] - 0s 6ms/step - loss: 0.0032\n",
      "Epoch 48/50\n",
      "13/13 [==============================] - 0s 5ms/step - loss: 0.0032\n",
      "Epoch 49/50\n",
      "13/13 [==============================] - 0s 6ms/step - loss: 0.0031\n",
      "Epoch 50/50\n",
      "13/13 [==============================] - 0s 6ms/step - loss: 0.0029\n",
      "4/4 [==============================] - 1s 6ms/step\n",
      "4/4 [==============================] - 1s 6ms/step - loss: 0.0055\n",
      "MSE: 0.005460174288600683\n"
     ]
    }
   ],
   "source": [
    "train_size = int(0.8 * len(x))\n",
    "x_train, x_test = x[0:train_size], x[train_size:]\n",
    "y_train, y_test = y[0:train_size], y[train_size:]\n",
    "model = Sequential()\n",
    "model.add(LSTM(units=50, return_sequences=True, input_shape=(x.shape[1], 1)))\n",
    "model.add(LSTM(units=50))\n",
    "model.add(Dense(units=1))\n",
    "model.compile(optimizer='adam', loss='mean_squared_error')\n",
    "model.fit(x_train, y_train, epochs=50, batch_size=32)\n",
    "predictions = model.predict(x_test)\n",
    "mse = model.evaluate(x_test, y_test)\n",
    "print(f'MSE: {mse}')"
   ]
  },
  {
   "cell_type": "code",
   "execution_count": 8,
   "metadata": {},
   "outputs": [
    {
     "name": "stdout",
     "output_type": "stream",
     "text": [
      "1/1 [==============================] - 0s 15ms/step\n",
      "Predicted price: [[1.0817332]]\n"
     ]
    }
   ],
   "source": [
    "last_prices = prices_scaled[-time_steps:]\n",
    "last_prices_scaled = scaler.transform(last_prices.reshape(-1, 1))\n",
    "x_pred = np.array([last_prices_scaled[-time_steps:, 0]])\n",
    "x_pred = np.reshape(x_pred, (x_pred.shape[0], x_pred.shape[1], 1))\n",
    "predicted_price_scaled = model.predict(x_pred)\n",
    "predicted_price = scaler.inverse_transform(predicted_price_scaled)\n",
    "print(f'Predicted price: {predicted_price}')"
   ]
  },
  {
   "cell_type": "code",
   "execution_count": 9,
   "metadata": {},
   "outputs": [
    {
     "name": "stdout",
     "output_type": "stream",
     "text": [
      "1/1 [==============================] - 0s 16ms/step\n",
      "1/1 [==============================] - 0s 16ms/step\n",
      "1/1 [==============================] - 0s 16ms/step\n",
      "1/1 [==============================] - 0s 32ms/step\n",
      "1/1 [==============================] - 0s 16ms/step\n",
      "1/1 [==============================] - 0s 18ms/step\n",
      "1/1 [==============================] - 0s 19ms/step\n",
      "1/1 [==============================] - 0s 16ms/step\n",
      "1/1 [==============================] - 0s 16ms/step\n",
      "1/1 [==============================] - 0s 13ms/step\n",
      "Predicted prices for the next 5 hours: [[1.08173323]\n",
      " [1.08099508]\n",
      " [1.08090591]\n",
      " [1.08090091]\n",
      " [1.08099222]\n",
      " [1.08109403]\n",
      " [1.08127308]\n",
      " [1.08152997]\n",
      " [1.08195782]\n",
      " [1.08290422]]\n"
     ]
    }
   ],
   "source": [
    "future_prices = np.zeros((10, 1))\n",
    "\n",
    "for i in range(10):\n",
    "    last_prices = prices_scaled[-time_steps:]\n",
    "    last_prices_scaled = scaler.transform(last_prices.reshape(-1, 1))\n",
    "    x_pred = np.array([last_prices_scaled[-time_steps:, 0]])\n",
    "    x_pred = np.reshape(x_pred, (x_pred.shape[0], x_pred.shape[1], 1))\n",
    "    predicted_price_scaled = model.predict(x_pred)\n",
    "    predicted_price = scaler.inverse_transform(predicted_price_scaled)\n",
    "    future_prices[i] = predicted_price\n",
    "    prices_scaled = np.vstack((prices_scaled, predicted_price_scaled))\n",
    "\n",
    "# Print the predicted prices for the next 5 hours\n",
    "print(f'Predicted prices for the next 5 hours: {future_prices}')"
   ]
  },
  {
   "cell_type": "code",
   "execution_count": 12,
   "metadata": {},
   "outputs": [
    {
     "data": {
      "image/png": "[encoded data removed]",
      "text/plain": [
       "<Figure size 640x480 with 1 Axes>"
      ]
     },
     "metadata": {},
     "output_type": "display_data"
    }
   ],
   "source": [
    "import matplotlib.pyplot as plt\n",
    "\n",
    "time = np.arange(10) * 30  \n",
    "plt.plot(time, future_prices, marker='o')\n",
    "plt.title('Predicted Prices for the Next 5 Hours')\n",
    "plt.xlabel('Time (minutes)')\n",
    "plt.ylabel('Price')\n",
    "plt.xticks([0, 30, 60, 90, 120, 150, 180, 210, 240, 270, 300],\n",
    "           ['0:00', '0:30', '1:00', '1:30', '2:00', '2:30', '3:00', '3:30', '4:00', '4:30', '5:00'])\n",
    "\n",
    "plt.grid(True)\n",
    "plt.show()"
   ]
  }
 ],
 "metadata": {
  "kernelspec": {
   "display_name": "Python 3",
   "language": "python",
   "name": "python3"
  },
  "language_info": {
   "codemirror_mode": {
    "name": "ipython",
    "version": 3
   },
   "file_extension": ".py",
   "mimetype": "text/x-python",
   "name": "python",
   "nbconvert_exporter": "python",
   "pygments_lexer": "ipython3",
   "version": "3.8.0"
  }
 },
 "nbformat": 4,
 "nbformat_minor": 2
}
